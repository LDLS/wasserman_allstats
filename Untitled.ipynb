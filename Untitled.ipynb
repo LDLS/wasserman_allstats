{
 "cells": [
  {
   "cell_type": "markdown",
   "metadata": {},
   "source": [
    "# Simulation for parameter estimation\n",
    "\n",
    "## Basic definitions\n",
    "\n",
    "Given a sample $X_1, \\ldots X_n$ (i.e. independent random variables) with cumulative distribution fucntion (CDF) $F$, how do we infer $F$?.\n",
    "\n",
    "A **statistical model** $\\mathfrak{F}$ is a set of distributions that seek to describe the sampled data. The model is said to be **parametric** if it can be parametrized by a finite number of parameters. An example is the normal model:\n",
    "\n",
    "$$\n",
    "\\mathfrak{F} = \\Biggl\\{ F(x; \\mu, \\sigma) = \\frac{1}{\\sigma \\sqrt{2 \\pi}} \\exp \\Bigl(- \\frac{1}{2\\sigma^2} (x - \\mu)^2 \\Bigr): \\mu \\in \\mathbb{R}, \\sigma \\in \\mathbb{R}_+ \\Biggr\\}.\n",
    "$$\n",
    "\n",
    "More generally,\n",
    "\n",
    "$$\n",
    "\\mathfrak{F} = \\Bigl\\{ F(x; \\theta): \\theta \\in \\Theta\\Bigr\\},\n",
    "$$\n",
    "\n",
    "$\\Theta$ is called the parameter space.\n",
    "\n",
    "Point estimation refers to the process of learning the a parameter of interest. Denote an estimate of $\\theta$ by  $\\hat{\\theta}$ or $\\hat{\\theta}_n$. Assuming a frequentist posture, $\\theta$ is a fixed quantity and $\\hat{\\theta}_n$ is a random variable as it depend on the data, and thus an **statistic**.\n",
    "\n",
    "The **bias** of an estimator is defined by\n",
    "\n",
    "$$\n",
    "\\mathrm{bias}\\bigl(\\hat{\\theta}_n\\bigr) = \\mathbb{E}_{\\theta}\\bigl(\\hat{\\theta}_n\\bigr) - \\theta\n",
    "$$\n",
    "\n",
    "where $\\mathbb{E}_{\\theta}$ refers to the expectation relative to the distribution relative to the unknown distribution $F(x; \\theta)$. The estimator $\\hat{\\theta}_n$ is **unbiased** if $\\mathbb{E}_{\\theta}\\bigl(\\hat{\\theta}_n\\bigr) = \\theta$.\n",
    "\n",
    "The **standard error** of $\\hat{\\theta}_n$ is given by\n",
    "\n",
    "$$\n",
    "\\mathrm{se}\\bigl(\\hat{\\theta}_n\\bigr) = \\sqrt{\\mathbb{V}_{\\theta}\\bigl(\\hat{\\theta}_n\\bigr)},\n",
    "$$\n",
    "\n",
    "with $\\mathbb{V}_{\\theta}$ being the variance relative to $F(x; \\theta)$. This means that the standar error is the standard deviation of the estimate relative to the underlying distribution.\n",
    "\n",
    "The quality of the estimate is measured by the **mean squared error**\n",
    "\n",
    "$$\n",
    "\\mathrm{MSE} = \\mathbb{E}_{\\theta}\\bigl(\\theta - \\hat{\\theta}_n\\bigr)^2,\n",
    "$$\n",
    "\n",
    "which can be rewritten as\n",
    "\n",
    "$$\n",
    "\\mathrm{MSE} = \\mathrm{bias}^2\\bigl(\\hat{\\theta}_n\\bigr) + \\mathrm{se}^2\\bigl(\\hat{\\theta}_n\\bigr).\n",
    "$$\n",
    "\n",
    "## Plugin estimators\n",
    "\n",
    "Most parametric models are characterized by a finite number of **statistical functionals**, which are linear functions $T(F)$ of the CDF $F$. Examples are the mean $\\mu = \\int x dF(x)$, the variance $\\sigma^2 = \\int (x - \\mu)^2 dF(x)$ and the median $m = F^{-1}(1/2)$ of $F$.\n",
    "\n",
    "The **empirical distribution function** of a sample $X_1, \\ldots X_n$ is given by\n",
    "\n",
    "$$\n",
    "\\hat{F}_n(x) = \\frac{1}{n} \\sum_{i=1}^n 1_{[X_i,\\infty)}(x),\n",
    "$$\n",
    "\n",
    "where\n",
    "\n",
    "$$\n",
    "1_{[X_i,\\infty)}(x) = \n",
    "\\left\\{\n",
    "    \\begin{array}{ll}\n",
    "        1 \\quad \\mathrm{if} \\quad x \\geq X_i\n",
    "\\\\\n",
    "         0 \\quad \\mathrm{if} \\quad x < X_i.\n",
    "\\\\\n",
    "            \\end{array}\n",
    "              \\right.\n",
    "$$\n",
    "\n",
    "The **plug-in estimator** $\\hat{\\theta}_n$ of $\\theta = T(F)$ given $X_1, \\ldots X_n$ is $\\hat{\\theta}_n = T\\bigl(\\hat{F}_n(x)\\bigr)$. \n",
    "\n",
    "\n",
    "The sample mean and variance are examples of this. \n",
    "\n",
    "$$\n",
    "\\hat{\\mu}_n = \\overline{X}_n = \\frac{1}{n} \\sum_{i=1}^n X_i \\quad \\mathrm{and} \\quad \\hat{\\sigma}_n = \\frac{1}{n} \\sum_{i=1}^n (X_i - \\mu)^2.\n",
    "$$\n",
    "\n",
    "For the mean it is relatively easy to compute the estandard error since\n",
    "\n",
    "$$\n",
    "\\mathbb{V}\\bigl(\\overline{X}_n\\bigr) = \\frac{1}{n} \\mathbb{V}\\bigl(X_1\\bigr) = \\frac{\\sigma^2}{n} \\iff \\mathrm{se}\\bigl(\\overline{X}_n\\bigr) = \\frac{\\sigma}{\\sqrt{n}},\n",
    "$$\n",
    "\n",
    "which in turn is estimated by\n",
    "\n",
    "$$\n",
    "\\hat{\\mathrm{se}}\\bigl(\\overline{X}_n\\bigr) = \\frac{\\hat{\\sigma}_n}{\\sqrt{n}}.\n",
    "$$\n",
    "\n",
    "Since the underlying distribution $F(x; \\theta)$ is unknown, for most statistical functionals the standard error is extremely  difficult or impossible to compute. In this notebook we will explore a basic simulation method to estimate it as well as some standard applications. "
   ]
  },
  {
   "cell_type": "markdown",
   "metadata": {},
   "source": [
    "### Example\n",
    "\n",
    "We can simulate a standard normal sample and compute its plug-in or samle mean and variance as well as the standard error as"
   ]
  },
  {
   "cell_type": "code",
   "execution_count": 22,
   "metadata": {},
   "outputs": [
    {
     "name": "stdout",
     "output_type": "stream",
     "text": [
      "sample mean: 0.00017934502141603482\n",
      "sample variance: 1.0273405042766104\n",
      "standard error for the mean: 0.032052152880525986\n"
     ]
    },
    {
     "data": {
      "image/png": "[encoded data removed]",
      "text/plain": [
       "<Figure size 432x288 with 1 Axes>"
      ]
     },
     "metadata": {
      "needs_background": "light"
     },
     "output_type": "display_data"
    }
   ],
   "source": [
    "import numpy as np\n",
    "import scipy as sp\n",
    "\n",
    "import matplotlib as mpl\n",
    "import matplotlib.pyplot as plt\n",
    "\n",
    "sample_size =1000\n",
    "x = np.random.normal(size=sample_size)\n",
    "\n",
    "sample_mean = np.mean(x)\n",
    "print(f'sample mean: {sample_mean}')\n",
    "\n",
    "sample_variance = np.std(x)**2\n",
    "print(f'sample variance: {sample_variance}')\n",
    "\n",
    "se_mean = np.std(x)/np.sqrt(sample_size)\n",
    "print(f'standard error for the mean: {se_mean}')\n",
    "\n",
    "f = plt.figure(figsize = (6,4))\n",
    "plt.hist(x)\n",
    "plt.tick_params(axis='x', labelsize=8)\n",
    "plt.tick_params(axis='y', labelsize=8);"
   ]
  },
  {
   "cell_type": "markdown",
   "metadata": {},
   "source": [
    "We can compare de theoreical and empirical CDFs using `statsmodels.distributions.empirical_distribution` and the fact that\n",
    "\n",
    "\n",
    "$$\n",
    "\\Phi(z) = \\frac1{2} + \\frac1{2} \\mathrm{erf} \\Biggl(\\frac{z}{\\sqrt{2}}\\Biggr)\n",
    "= \\frac1{2} + \\frac1{2} \\int_0^z e^{-\\frac{t}{\\sqrt{2}}}dt.\n",
    "$$"
   ]
  },
  {
   "cell_type": "code",
   "execution_count": 19,
   "metadata": {},
   "outputs": [
    {
     "data": {
      "image/png": "[encoded data removed]",
      "text/plain": [
       "<Figure size 432x288 with 1 Axes>"
      ]
     },
     "metadata": {
      "needs_background": "light"
     },
     "output_type": "display_data"
    }
   ],
   "source": [
    "from statsmodels.distributions.empirical_distribution import ECDF\n",
    "ecdf_data = ECDF(x)\n",
    "cdf_data = 0.5 + 0.5*sp.special.erf(ecdf_data.x/np.sqrt(2))\n",
    "fig = plt.figure(figsize=(6,4))\n",
    "plt.plot(ecdf_data.x, ecdf_data.y, label = 'ECDF',  c = 'r')\n",
    "plt.plot(ecdf_data.x, cdf_data, label = 'CDF',  c = 'g') #theoretical N(0,1)\n",
    "plt.tick_params(axis = 'x', labelsize = 8)\n",
    "plt.tick_params(axis = 'y', labelsize = 8)\n",
    "plt.legend(loc = 0, fontsize = 10);"
   ]
  },
  {
   "cell_type": "markdown",
   "metadata": {},
   "source": [
    "## Confidence intervals\n",
    "A **confidence interval** for $\\theta$ is a data-dependent interval $C_n = (a_n, b_n)$ such that\n",
    "\n",
    "$$\n",
    "\\mathbb{P}_\\theta(\\theta \\in C_n) = 1 - \\alpha,\n",
    "$$\n",
    "\n",
    "i.e., that $\\theta$ lies in $C_n$ with probability or **coverage** $1-\\alpha$. \n",
    "\n",
    "\n",
    "Let $\\Phi$ denote the cumulative distribution function of a standard normal and set\n",
    "\n",
    "$$\n",
    "z_{\\alpha/2} = \\Phi^{-1}(1 - \\alpha/2) \\iff \\mathbb{P}(Z > z_{\\alpha/2}) = \\alpha/2.\n",
    "$$\n",
    "\n",
    "Then\n",
    "\n",
    "$$\n",
    "C_n = \\bigl( \\hat{\\theta}_n - z_{\\alpha/2}\\mathrm{se}(\\hat{\\theta}_n), \\hat{\\theta}_n + z_{\\alpha/2}\\mathrm{se}(\\hat{\\theta}_n) \\bigr)\n",
    "$$\n",
    "\n",
    "is called a **normal-based confidence interval**. If one has that $\\hat{\\theta}_n$ is unbiased and normal, i.e., that $\\hat{\\theta}_n \\sim \\mathcal{N}\\bigl(\\theta, \\mathrm{se}^2(\\hat{\\theta}_n)\\bigr)$. Asymptotically,\n",
    "\n",
    "$$\n",
    "\\mathbb{P}_\\theta(\\theta \\in C_n) \\to 1 - \\alpha,\n",
    "$$\n",
    "\n",
    "One can see that\n",
    "\n",
    "$$\n",
    "z_{\\alpha/2} = \\Phi^{-1}(1 - \\alpha/2) = \\sqrt{2}\\,\\mathrm{erf}^{-1}(1 - \\alpha).\n",
    "$$\n",
    "\n",
    "With this, for the exampe we gat that the normal based confidence interval is"
   ]
  },
  {
   "cell_type": "code",
   "execution_count": 21,
   "metadata": {},
   "outputs": [
    {
     "name": "stdout",
     "output_type": "stream",
     "text": [
      "[-0.01968394905278644, 0.10331873188289781]\n"
     ]
    }
   ],
   "source": [
    "z_5pc = np.sqrt(2)*sp.special.erfinv(1-0.05)\n",
    "nci_len = z_5pc*se_mean\n",
    "print([sample_mean - nci_len, sample_mean + nci_len])"
   ]
  },
  {
   "cell_type": "markdown",
   "metadata": {},
   "source": [
    "## Bootstrap\n",
    "\n",
    "As already mentioned, aside the mean and mean differences standard errors are seldmom computable. This and the fact that most statistics are not normal, "
   ]
  }
 ],
 "metadata": {
  "kernelspec": {
   "display_name": "ir-models",
   "language": "python",
   "name": "ir-models"
  },
  "language_info": {
   "codemirror_mode": {
    "name": "ipython",
    "version": 3
   },
   "file_extension": ".py",
   "mimetype": "text/x-python",
   "name": "python",
   "nbconvert_exporter": "python",
   "pygments_lexer": "ipython3",
   "version": "3.6.9"
  }
 },
 "nbformat": 4,
 "nbformat_minor": 2
}
